{
 "cells": [
  {
   "cell_type": "code",
   "execution_count": 3,
   "metadata": {},
   "outputs": [
    {
     "name": "stdout",
     "output_type": "stream",
     "text": [
      "Requirement already satisfied: Pillow in /home/codespace/.local/lib/python3.12/site-packages (11.0.0)\n",
      "Note: you may need to restart the kernel to use updated packages.\n"
     ]
    }
   ],
   "source": [
    "pip install Pillow"
   ]
  },
  {
   "cell_type": "code",
   "execution_count": 4,
   "metadata": {},
   "outputs": [],
   "source": [
    "from PIL import Image, ImageEnhance, ImageFilter"
   ]
  },
  {
   "cell_type": "code",
   "execution_count": 5,
   "metadata": {},
   "outputs": [],
   "source": [
    "imagem = Image.open(\"trio_msn.png\")\n",
    "\n",
    "\n"
   ]
  },
  {
   "cell_type": "code",
   "execution_count": 6,
   "metadata": {},
   "outputs": [
    {
     "name": "stdout",
     "output_type": "stream",
     "text": [
      "Formato: WEBP \n",
      "Tamanho: (984, 747) \n",
      "Formato: RGB \n"
     ]
    }
   ],
   "source": [
    "# Exibindo informações da imagem\n",
    "print(f\"Formato: {imagem.format} \")\n",
    "print(f\"Tamanho: {imagem.size} \")\n",
    "print(f\"Formato: {imagem.mode} \")"
   ]
  },
  {
   "cell_type": "code",
   "execution_count": null,
   "metadata": {},
   "outputs": [],
   "source": [
    "# Exercício 4: Conversão para Escala de cinza\n",
    "def converter_escala_cinza(imagem):\n",
    "    #Método 1 Média simples dos canais\n",
    "    img_media = imagem.convert('L')\n",
    "\n",
    "  \n",
    "\n",
    "    return img_media\n",
    "\n",
    "# Imagem convertida para cinza\n",
    "imagem_convertida_para_cinza = converter_escala_cinza(imagem)\n",
    "imagem_convertida_para_cinza.save(\"trio_msn_cinza.jpg\")\n",
    "\n",
    "\n"
   ]
  },
  {
   "cell_type": "code",
   "execution_count": null,
   "metadata": {},
   "outputs": [],
   "source": [
    "\n",
    "def convertar_cinza_luminosidade(imagem):\n",
    "    img_luminosidade = imagem.convert('L', matrix=[\n",
    "        0.299, 0.587, 0.114, 0,\n",
    "        0.299, 0.587, 0.114, 0,\n",
    "        0.299, 0.587, 0.114, 0\n",
    "    ])\n",
    "\n",
    "    return img_luminosidade\n",
    "\n",
    "\n",
    "imagem_cinza_luminosidade = convertar_cinza_luminosidade(imagem)\n",
    "imagem_cinza_luminosidade.save(\"trio_msn_cinza_luminosidade.jpg\")\n",
    "                            "
   ]
  },
  {
   "cell_type": "code",
   "execution_count": 8,
   "metadata": {},
   "outputs": [],
   "source": [
    "#Método 2 Converter por luminosidade\n",
    "def convertar_cinza_luminosidade(imagem):\n",
    "    img_luminosidade = imagem.convert('L', matrix=[\n",
    "        0.299, 0.587, 0.114, 0,\n",
    "        0.299, 0.587, 0.114, 0,\n",
    "        0.299, 0.587, 0.114, 0\n",
    "    ])\n",
    "\n",
    "    return img_luminosidade\n",
    "\n",
    "\n",
    "imagem_cinza_luminosidade = convertar_cinza_luminosidade(imagem)\n",
    "imagem_cinza_luminosidade.save(\"trio_msn_cinza_luminosidade.jpg\")\n"
   ]
  },
  {
   "cell_type": "code",
   "execution_count": null,
   "metadata": {},
   "outputs": [],
   "source": [
    "# Exercício 5: Detecçaõ de Bordas Avançada\n",
    "def detectar_bordas_sobel(imagem):\n",
    "    img_cinza = imagem.convert('L')\n",
    "    \n",
    "    # Sobel\n",
    "    bordas_sobel_h = img_cinza.filter(ImageFilter.Kernel((3, 3), \n",
    "        [-1, 0, 1, -2, 0, 2, -1, 0, 1]))\n",
    "    return {'sobel_h': bordas_sobel_h,}\n",
    "\n",
    "imagem_bordas_sobel = detectar_bordas_sobel(imagem)\n",
    "imagem_bordas_sobel.save(\"trio_msn_bordas_sobel.jpg\")"
   ]
  },
  {
   "cell_type": "code",
   "execution_count": null,
   "metadata": {},
   "outputs": [],
   "source": [
    "# Exercício 6: Pipeline de Processamento\n",
    "def pipeline_processamento(imagem, limiar=128):\n",
    "    # Conversão para escala de cinza\n",
    "    img_cinza = imagem.convert('L')\n",
    "    \n",
    "    # Equalização de histograma\n",
    "    img_equalizada = ImageOps.equalize(img_cinza)\n",
    "    \n",
    "    # Detecção de bordas\n",
    "    img_bordas = img_equalizada.filter(ImageFilter.FIND_EDGES)\n",
    "    \n",
    "    # Limiarização\n",
    "    img_final = img_bordas.point(lambda x: 255 if x > limiar else 0)\n",
    "    \n",
    "    return img_final"
   ]
  }
 ],
 "metadata": {
  "kernelspec": {
   "display_name": "Python 3",
   "language": "python",
   "name": "python3"
  },
  "language_info": {
   "codemirror_mode": {
    "name": "ipython",
    "version": 3
   },
   "file_extension": ".py",
   "mimetype": "text/x-python",
   "name": "python",
   "nbconvert_exporter": "python",
   "pygments_lexer": "ipython3",
   "version": "3.12.1"
  }
 },
 "nbformat": 4,
 "nbformat_minor": 2
}
